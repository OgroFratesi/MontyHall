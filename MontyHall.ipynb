{
 "cells": [
  {
   "cell_type": "code",
   "execution_count": 2,
   "metadata": {},
   "outputs": [],
   "source": [
    "import random\n",
    "import numpy as np\n",
    "from matplotlib import pyplot as plt\n",
    "\n",
    "# Creamos la primer funcion que nos crea el escenario inicial con las tres puertas, en las cuales en dos hay una cabra y \n",
    "# en otra un auto.\n",
    "\n",
    "def escenario_inicial():\n",
    "    \n",
    "    # definimos aleatoriamente donde estará el auto\n",
    "    auto_index = random.randrange(3)\n",
    "    puertas = [0, 0, 0]\n",
    "    puertas[auto_index] = 1\n",
    "    return puertas\n",
    "\n",
    "# Ahora creamos una función para simular la eleccion \"aleatoria\" del participante\n",
    "\n",
    "def eleccion_participante(puertas):\n",
    "    \n",
    "    eleccion = random.randrange(3)\n",
    "    puerta_seleccionada = puertas[eleccion]\n",
    "    \n",
    "    # retornamos lo que hay detras de la puerta elegida\n",
    "    return puerta_seleccionada\n",
    "\n",
    "# La siguiente función simula el proceso en el cual el presentador le da la oportunidad de cambiar de puerta.\n",
    "# El parametro \"cambia\" es la decision que toma el participante durante todas las iteraciones.\n",
    "# Por lo tanto, a partir de esa decision, se simulan tantas iteraciones y nos devuelve el resultado del total.\n",
    "\n",
    "def ultima_decision(puertas, cambia=False, iteraciones=1000):\n",
    "    \n",
    "    gana = 0\n",
    "    pierde = 0\n",
    "    \n",
    "    for i in range(iteraciones):\n",
    "        participante = eleccion_participante(puertas)\n",
    "\n",
    "        if not cambia:\n",
    "            if participante == 1:\n",
    "                gana += 1\n",
    "            else:\n",
    "                pierde += 1\n",
    "        else:\n",
    "            if participante == 1:\n",
    "                pierde += 1\n",
    "            else:\n",
    "                gana += 1\n",
    "                \n",
    "    return (gana, pierde)\n",
    "\n",
    "def monty_hall(cambia=False, iteraciones=1000):\n",
    "    \n",
    "    puertas = escenario_inicial()\n",
    "    \n",
    "    resultados = ultima_decision(puertas, cambia, iteraciones)\n",
    "    \n",
    "    gana = resultados[0]\n",
    "    pierde = resultados[1]\n",
    "    print(f'Simulando {iteraciones} veces, y decidiendo siempre {\"cambiar\" if cambia else \"no cambiar\" }:')\n",
    "    print(f'   Se ganó el auto {gana} veces')\n",
    "    print(f'   Perdió el auto {pierde} veces')\n",
    "    \n",
    "    return resultados"
   ]
  },
  {
   "cell_type": "code",
   "execution_count": 36,
   "metadata": {},
   "outputs": [
    {
     "name": "stdout",
     "output_type": "stream",
     "text": [
      "Simulando 10000 veces, y decidiendo siempre cambiar:\n",
      "   Se ganó el auto 6757 veces\n",
      "   Perdió el auto 3243 veces\n"
     ]
    }
   ],
   "source": [
    "f = monty_hall(cambia=True,iteraciones=10000)"
   ]
  }
 ],
 "metadata": {
  "kernelspec": {
   "display_name": "Python 3",
   "language": "python",
   "name": "python3"
  },
  "language_info": {
   "codemirror_mode": {
    "name": "ipython",
    "version": 3
   },
   "file_extension": ".py",
   "mimetype": "text/x-python",
   "name": "python",
   "nbconvert_exporter": "python",
   "pygments_lexer": "ipython3",
   "version": "3.8.3"
  }
 },
 "nbformat": 4,
 "nbformat_minor": 4
}
